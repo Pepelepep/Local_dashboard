{
 "cells": [
  {
   "metadata": {
    "ExecuteTime": {
     "end_time": "2025-06-21T19:24:07.909316Z",
     "start_time": "2025-06-21T19:24:07.872581Z"
    }
   },
   "cell_type": "code",
   "source": [
    "import requests\n",
    "import streamlit as st\n",
    "from datetime import datetime, timedelta\n",
    "from dotenv import load_dotenv\n",
    "import os\n",
    "import gspread\n",
    "import pandas as pd\n",
    "from gspread_dataframe import get_as_dataframe\n",
    "from oauth2client.service_account import ServiceAccountCredentials\n",
    "\n",
    "load_dotenv(dotenv_path='config.env')  # 👈 important ici"
   ],
   "id": "e6247634725893bf",
   "outputs": [
    {
     "data": {
      "text/plain": [
       "True"
      ]
     },
     "execution_count": 71,
     "metadata": {},
     "output_type": "execute_result"
    }
   ],
   "execution_count": 71
  },
  {
   "metadata": {
    "ExecuteTime": {
     "end_time": "2025-06-21T19:24:09.478542Z",
     "start_time": "2025-06-21T19:24:09.468961Z"
    }
   },
   "cell_type": "code",
   "source": [
    "SHOP_NAME = os.getenv(\"SHOP_NAME_TEC\")\n",
    "ACCESS_TOKEN = os.getenv(\"SHOPIFY_API_TOKEN\")\n",
    "SHOP_NAME_LOCAL = os.getenv(\"SHOP_NAME_LOCAL\")\n",
    "\n",
    "HEADERS = {\n",
    "    \"X-Shopify-Access-Token\": ACCESS_TOKEN,\n",
    "    \"Content-Type\": \"application/json\"\n",
    "}\n",
    "\n",
    "GRAPHQL_URL = f\"https://{SHOP_NAME}/admin/api/2024-04/graphql.json\"\n",
    "\n",
    "BASE_URL = f\"https://{SHOP_NAME_LOCAL}/admin/api/2024-04\"\n",
    "\n",
    "scope = [\n",
    "    \"https://spreadsheets.google.com/feeds\",\n",
    "    \"https://www.googleapis.com/auth/drive\"\n",
    "]\n",
    "creds = ServiceAccountCredentials.from_json_keyfile_name(\"gspread_key.json\", scope)\n",
    "client = gspread.authorize(creds)\n"
   ],
   "id": "8b2dc80dae8fd03e",
   "outputs": [],
   "execution_count": 72
  },
  {
   "metadata": {
    "ExecuteTime": {
     "end_time": "2025-06-21T19:02:25.210639Z",
     "start_time": "2025-06-21T19:02:24.988062Z"
    }
   },
   "cell_type": "code",
   "source": [
    "# Simple requête test GraphQL\n",
    "query = \"\"\"\n",
    "{\n",
    "  shop {\n",
    "    name\n",
    "    myshopifyDomain\n",
    "    email\n",
    "  }\n",
    "}\n",
    "\"\"\"\n",
    "\n",
    "res = requests.post(\n",
    "    f\"https://{SHOP_NAME}/admin/api/2024-04/graphql.json\",\n",
    "    headers=headers,\n",
    "    json={\"query\": query}\n",
    ")\n",
    "\n",
    "print(res.status_code)\n",
    "print(res.json())"
   ],
   "id": "66bc257a96abf4d8",
   "outputs": [
    {
     "name": "stdout",
     "output_type": "stream",
     "text": [
      "200\n",
      "{'data': {'shop': {'name': 'Local', 'myshopifyDomain': 'fh1z1f-5i.myshopify.com', 'email': 'info@seulementlocal.com'}}, 'extensions': {'cost': {'requestedQueryCost': 1, 'actualQueryCost': 1, 'throttleStatus': {'maximumAvailable': 2000.0, 'currentlyAvailable': 1999, 'restoreRate': 100.0}}}}\n"
     ]
    }
   ],
   "execution_count": 55
  },
  {
   "metadata": {
    "ExecuteTime": {
     "end_time": "2025-06-21T19:02:25.703333Z",
     "start_time": "2025-06-21T19:02:25.698522Z"
    }
   },
   "cell_type": "code",
   "source": [
    "# ----------------------------------------\n",
    "# 1. PRODUCTS_DF\n",
    "# ----------------------------------------\n",
    "QUERY_PRODUCTS = \"\"\"\n",
    "query getProducts($cursor: String) {\n",
    "  products(first: 50, after: $cursor) {\n",
    "    pageInfo {\n",
    "      hasNextPage\n",
    "    }\n",
    "    edges {\n",
    "      cursor\n",
    "      node {\n",
    "        id\n",
    "        title\n",
    "        vendor\n",
    "        productType\n",
    "        tags\n",
    "        variants(first: 10) {\n",
    "          edges {\n",
    "            node {\n",
    "              id\n",
    "              sku\n",
    "              price\n",
    "            }\n",
    "          }\n",
    "        }\n",
    "      }\n",
    "    }\n",
    "  }\n",
    "}\n",
    "\"\"\"\n",
    "\n",
    "def fetch_products_df():\n",
    "    cursor, has_next = None, True\n",
    "    rows = []\n",
    "    while has_next:\n",
    "        r = requests.post(GRAPHQL_URL, headers=HEADERS, json={\"query\": QUERY_PRODUCTS, \"variables\": {\"cursor\": cursor}})\n",
    "        r.raise_for_status()\n",
    "        data = r.json()[\"data\"][\"products\"]\n",
    "        for edge in data[\"edges\"]:\n",
    "            cursor = edge[\"cursor\"]\n",
    "            node = edge[\"node\"]\n",
    "            for v_edge in node[\"variants\"][\"edges\"]:\n",
    "                variant = v_edge[\"node\"]\n",
    "                rows.append({\n",
    "                    \"product_id\": node[\"id\"],\n",
    "                    \"title\": node[\"title\"],\n",
    "                    \"vendor\": node[\"vendor\"],\n",
    "                    \"product_type\": node[\"productType\"],\n",
    "                    \"tags\": \", \".join(node[\"tags\"]),\n",
    "                    \"variant_id\": variant[\"id\"],\n",
    "                    \"sku\": variant[\"sku\"],\n",
    "                    \"price\": float(variant[\"price\"])\n",
    "                })\n",
    "        has_next = data[\"pageInfo\"][\"hasNextPage\"]\n",
    "    return pd.DataFrame(rows)"
   ],
   "id": "3a232cfecfef09f2",
   "outputs": [],
   "execution_count": 56
  },
  {
   "metadata": {
    "ExecuteTime": {
     "end_time": "2025-06-21T19:02:26.273591Z",
     "start_time": "2025-06-21T19:02:26.267787Z"
    }
   },
   "cell_type": "code",
   "source": [
    "# ----------------------------------------\n",
    "# 2. STOCK_DF\n",
    "# ----------------------------------------\n",
    "QUERY_STOCK = \"\"\"\n",
    "query getProductStock($cursor: String) {\n",
    "  products(first: 50, after: $cursor) {\n",
    "    pageInfo {\n",
    "      hasNextPage\n",
    "    }\n",
    "    edges {\n",
    "      cursor\n",
    "      node {\n",
    "        variants(first: 10) {\n",
    "          edges {\n",
    "            node {\n",
    "              id\n",
    "              sku\n",
    "              inventoryItem {\n",
    "                tracked\n",
    "                inventoryLevels(first: 5) {\n",
    "                  edges {\n",
    "                    node {\n",
    "                      location {\n",
    "                        name\n",
    "                      }\n",
    "                      quantities(names: [\"available\"]) {\n",
    "                        name\n",
    "                        quantity\n",
    "                      }\n",
    "                    }\n",
    "                  }\n",
    "                }\n",
    "              }\n",
    "            }\n",
    "          }\n",
    "        }\n",
    "      }\n",
    "    }\n",
    "  }\n",
    "}\n",
    "\"\"\"\n",
    "\n",
    "def fetch_stock_df():\n",
    "    cursor, has_next = None, True\n",
    "    rows = []\n",
    "    while has_next:\n",
    "        r = requests.post(GRAPHQL_URL, headers=HEADERS, json={\"query\": QUERY_STOCK, \"variables\": {\"cursor\": cursor}})\n",
    "        r.raise_for_status()\n",
    "        data = r.json()[\"data\"][\"products\"]\n",
    "        for edge in data[\"edges\"]:\n",
    "            cursor = edge[\"cursor\"]\n",
    "            for v_edge in edge[\"node\"][\"variants\"][\"edges\"]:\n",
    "                variant = v_edge[\"node\"]\n",
    "                inv = variant.get(\"inventoryItem\")\n",
    "                if inv and inv.get(\"tracked\"):\n",
    "                    for lvl in inv.get(\"inventoryLevels\", {}).get(\"edges\", []):\n",
    "                        node = lvl[\"node\"]\n",
    "                        qty = next((q[\"quantity\"] for q in node.get(\"quantities\", []) if q[\"name\"] == \"available\"), None)\n",
    "                        rows.append({\n",
    "                            \"variant_id\": variant[\"id\"],\n",
    "                            \"sku\": variant[\"sku\"],\n",
    "                            \"location\": node[\"location\"][\"name\"],\n",
    "                            \"available\": qty\n",
    "                        })\n",
    "        has_next = data[\"pageInfo\"][\"hasNextPage\"]\n",
    "    return pd.DataFrame(rows)"
   ],
   "id": "b6d3c67544a5fe22",
   "outputs": [],
   "execution_count": 57
  },
  {
   "metadata": {
    "ExecuteTime": {
     "end_time": "2025-06-21T19:02:26.687078Z",
     "start_time": "2025-06-21T19:02:26.683350Z"
    }
   },
   "cell_type": "code",
   "source": [
    "# ----------------------------------------\n",
    "# 3. ORDERS_DF\n",
    "# ----------------------------------------\n",
    "QUERY_ORDERS = \"\"\"\n",
    "query getOrders($cursor: String) {\n",
    "  orders(first: 50, after: $cursor, reverse: true) {\n",
    "    pageInfo {\n",
    "      hasNextPage\n",
    "    }\n",
    "    edges {\n",
    "      cursor\n",
    "      node {\n",
    "        id\n",
    "        name\n",
    "        createdAt\n",
    "        lineItems(first: 10) {\n",
    "          edges {\n",
    "            node {\n",
    "              title\n",
    "              quantity\n",
    "              sku\n",
    "              originalUnitPrice\n",
    "              discountedUnitPrice\n",
    "            }\n",
    "          }\n",
    "        }\n",
    "      }\n",
    "    }\n",
    "  }\n",
    "}\n",
    "\"\"\"\n",
    "\n",
    "def fetch_orders_df():\n",
    "    cursor, has_next = None, True\n",
    "    rows = []\n",
    "    while has_next:\n",
    "        r = requests.post(GRAPHQL_URL, headers=HEADERS, json={\"query\": QUERY_ORDERS, \"variables\": {\"cursor\": cursor}})\n",
    "        r.raise_for_status()\n",
    "        data = r.json()[\"data\"][\"orders\"]\n",
    "        for edge in data[\"edges\"]:\n",
    "            cursor = edge[\"cursor\"]\n",
    "            o = edge[\"node\"]\n",
    "            for li in o[\"lineItems\"][\"edges\"]:\n",
    "                item = li[\"node\"]\n",
    "                rows.append({\n",
    "                    \"order_id\": o[\"id\"],\n",
    "                    \"order_name\": o[\"name\"],\n",
    "                    \"created_at\": o[\"createdAt\"],\n",
    "                    \"title\": item[\"title\"],\n",
    "                    \"sku\": item[\"sku\"],\n",
    "                    \"quantity\": item[\"quantity\"],\n",
    "                    \"original_unit_price\": float(item[\"originalUnitPrice\"]),\n",
    "                    \"discounted_unit_price\": float(item[\"discountedUnitPrice\"])\n",
    "                })\n",
    "        has_next = data[\"pageInfo\"][\"hasNextPage\"]\n",
    "    return pd.DataFrame(rows)"
   ],
   "id": "3f18a54a29a54559",
   "outputs": [],
   "execution_count": 58
  },
  {
   "metadata": {
    "ExecuteTime": {
     "end_time": "2025-06-21T19:25:59.055960Z",
     "start_time": "2025-06-21T19:25:59.047756Z"
    }
   },
   "cell_type": "code",
   "source": [
    "# https://docs.google.com/spreadsheets/d/1NATO1x_KlDUQ6F0vbD32xqM_hPsS0NqDawo3_CdcO0o/edit?gid=1977368994#gid=1977368994\n",
    "# ----------------------------------------\n",
    "# 3. VENDORS_SPEC_DF -> GOOGLE SHEETS\n",
    "# ----------------------------------------\n",
    "def fetch_vendors_df():\n",
    "    scope = [\"https://spreadsheets.google.com/feeds\", \"https://www.googleapis.com/auth/drive\"]\n",
    "    creds = ServiceAccountCredentials.from_json_keyfile_name(\"gspread_key.json\", scope)\n",
    "    client = gspread.authorize(creds)\n",
    "\n",
    "    # Ouvre le Google Sheet avec l’ID du nouveau fichier\n",
    "    sheet = client.open_by_key(\"1NATO1x_KlDUQ6F0vbD32xqM_hPsS0NqDawo3_CdcO0o\")\n",
    "\n",
    "    # Onglet cible à modifier si besoin\n",
    "    worksheet = sheet.worksheet(\"Business_rules\")\n",
    "\n",
    "    # Transforme en DataFrame\n",
    "    df = get_as_dataframe(worksheet, evaluate_formulas=True)\n",
    "    df = df.dropna(how=\"all\")  # Enlève les lignes vides\n",
    "    df.columns = [c.strip() for c in df.columns]  # Nettoie les noms de colonnes\n",
    "    return df"
   ],
   "id": "19d17cd982e0cf9c",
   "outputs": [],
   "execution_count": 75
  },
  {
   "metadata": {
    "ExecuteTime": {
     "end_time": "2025-06-21T19:26:36.599515Z",
     "start_time": "2025-06-21T19:26:26.585920Z"
    }
   },
   "cell_type": "code",
   "source": [
    "# ----------------------------------------\n",
    "# 4. FETCH ALL TOGETHER\n",
    "# ----------------------------------------\n",
    "def fetch_datasets():\n",
    "    products_df = fetch_products_df()\n",
    "    stock_df = fetch_stock_df()\n",
    "    orders_df = fetch_orders_df()\n",
    "    vendors_df = fetch_vendors_df()\n",
    "    return products_df, stock_df, orders_df, vendors_df\n",
    "\n",
    "# Run it\n",
    "products_df, stock_df, orders_df,vendors_df = fetch_datasets()"
   ],
   "id": "171b863b59939b0b",
   "outputs": [],
   "execution_count": 77
  },
  {
   "metadata": {
    "ExecuteTime": {
     "end_time": "2025-06-21T19:26:38.316023Z",
     "start_time": "2025-06-21T19:26:38.311955Z"
    }
   },
   "cell_type": "code",
   "source": [
    "print(\"🔹 Products:\", products_df.shape, \"rows\")\n",
    "print(\"🔹 Stockm:\", stock_df.shape, \"rows\")\n",
    "print(\"🔹 Orders:\", orders_df.shape, \"rows\")\n",
    "print(\"🔹 Vendors:\", vendors_df.shape, \"rows\")"
   ],
   "id": "fca35c4a75145700",
   "outputs": [
    {
     "name": "stdout",
     "output_type": "stream",
     "text": [
      "🔹 Products: (790, 8) rows\n",
      "🔹 Stockm: (790, 4) rows\n",
      "🔹 Orders: (727, 8) rows\n",
      "🔹 Vendors: (13, 8) rows\n"
     ]
    }
   ],
   "execution_count": 78
  },
  {
   "metadata": {
    "ExecuteTime": {
     "end_time": "2025-06-21T19:27:57.602954Z",
     "start_time": "2025-06-21T19:27:57.578538Z"
    }
   },
   "cell_type": "code",
   "source": [
    "products_df.to_csv(\"products.csv\", index=False)\n",
    "stock_df.to_csv(\"stock.csv\", index=False)\n",
    "orders_df.to_csv(\"orders.csv\", index=False)\n",
    "vendors_df.to_csv(\"vendors.csv\", index=False)"
   ],
   "id": "3c582cbd34acc280",
   "outputs": [],
   "execution_count": 80
  }
 ],
 "metadata": {
  "kernelspec": {
   "display_name": "Python 3",
   "language": "python",
   "name": "python3"
  },
  "language_info": {
   "codemirror_mode": {
    "name": "ipython",
    "version": 2
   },
   "file_extension": ".py",
   "mimetype": "text/x-python",
   "name": "python",
   "nbconvert_exporter": "python",
   "pygments_lexer": "ipython2",
   "version": "2.7.6"
  }
 },
 "nbformat": 4,
 "nbformat_minor": 5
}
